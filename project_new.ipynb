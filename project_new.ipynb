{
 "cells": [
  {
   "cell_type": "code",
   "execution_count": 1,
   "metadata": {},
   "outputs": [
    {
     "name": "stdout",
     "output_type": "stream",
     "text": [
      "\n",
      "Player 0's turn.\n"
     ]
    },
    {
     "name": "stderr",
     "output_type": "stream",
     "text": [
      "/Users/divita/Library/Python/3.9/lib/python/site-packages/urllib3/__init__.py:34: NotOpenSSLWarning: urllib3 v2 only supports OpenSSL 1.1.1+, currently the 'ssl' module is compiled with 'LibreSSL 2.8.3'. See: https://github.com/urllib3/urllib3/issues/3020\n",
      "  warnings.warn(\n"
     ]
    },
    {
     "name": "stdout",
     "output_type": "stream",
     "text": [
      "Player 0 updated the board:\n",
      "[[-1 -1 -1 -1]\n",
      " [-1 -1 -1 -1]\n",
      " [ 0 -1 -1 -1]\n",
      " [ 0  1  0  1]]\n",
      "\n",
      "Player 1's turn.\n",
      "\n",
      "Player 0's turn.\n",
      "Player 0 updated the board:\n",
      "[[-1 -1 -1 -1]\n",
      " [-1 -1 -1 -1]\n",
      " [ 0  1 -1 -1]\n",
      " [ 0  1  0  1]]\n",
      "\n",
      "Player 1's turn.\n"
     ]
    },
    {
     "ename": "ValueError",
     "evalue": "invalid literal for int() with base 10: ''",
     "output_type": "error",
     "traceback": [
      "\u001b[0;31m---------------------------------------------------------------------------\u001b[0m",
      "\u001b[0;31mValueError\u001b[0m                                Traceback (most recent call last)",
      "Cell \u001b[0;32mIn[1], line 82\u001b[0m\n\u001b[1;32m     79\u001b[0m             current_player \u001b[38;5;241m=\u001b[39m \u001b[38;5;241m1\u001b[39m \u001b[38;5;241m-\u001b[39m current_player\n\u001b[1;32m     81\u001b[0m game \u001b[38;5;241m=\u001b[39m QuantumGameInteractive()\n\u001b[0;32m---> 82\u001b[0m \u001b[43mgame\u001b[49m\u001b[38;5;241;43m.\u001b[39;49m\u001b[43mplay_game\u001b[49m\u001b[43m(\u001b[49m\u001b[43m)\u001b[49m\n",
      "Cell \u001b[0;32mIn[1], line 71\u001b[0m, in \u001b[0;36mQuantumGameInteractive.play_game\u001b[0;34m(self)\u001b[0m\n\u001b[1;32m     69\u001b[0m \u001b[38;5;28;01mwhile\u001b[39;00m \u001b[38;5;28;01mTrue\u001b[39;00m:\n\u001b[1;32m     70\u001b[0m     \u001b[38;5;28mprint\u001b[39m(\u001b[38;5;124mf\u001b[39m\u001b[38;5;124m\"\u001b[39m\u001b[38;5;130;01m\\n\u001b[39;00m\u001b[38;5;124mPlayer \u001b[39m\u001b[38;5;132;01m{\u001b[39;00mcurrent_player\u001b[38;5;132;01m}\u001b[39;00m\u001b[38;5;124m'\u001b[39m\u001b[38;5;124ms turn.\u001b[39m\u001b[38;5;124m\"\u001b[39m)\n\u001b[0;32m---> 71\u001b[0m     qubit \u001b[38;5;241m=\u001b[39m \u001b[38;5;28;43mint\u001b[39;49m\u001b[43m(\u001b[49m\u001b[38;5;28;43minput\u001b[39;49m\u001b[43m(\u001b[49m\u001b[38;5;124;43m\"\u001b[39;49m\u001b[38;5;124;43mChoose a qubit to interact with (0-3): \u001b[39;49m\u001b[38;5;124;43m\"\u001b[39;49m\u001b[43m)\u001b[49m\u001b[43m)\u001b[49m\n\u001b[1;32m     72\u001b[0m     action \u001b[38;5;241m=\u001b[39m \u001b[38;5;28minput\u001b[39m(\u001b[38;5;124m\"\u001b[39m\u001b[38;5;124mType \u001b[39m\u001b[38;5;124m'\u001b[39m\u001b[38;5;124mX\u001b[39m\u001b[38;5;124m'\u001b[39m\u001b[38;5;124m for a secret X gate or \u001b[39m\u001b[38;5;124m'\u001b[39m\u001b[38;5;124mP\u001b[39m\u001b[38;5;124m'\u001b[39m\u001b[38;5;124m to measure and place: \u001b[39m\u001b[38;5;124m\"\u001b[39m)\u001b[38;5;241m.\u001b[39mupper()\n\u001b[1;32m     74\u001b[0m     \u001b[38;5;28mself\u001b[39m\u001b[38;5;241m.\u001b[39mupdate_board(current_player, qubit, action)\n",
      "\u001b[0;31mValueError\u001b[0m: invalid literal for int() with base 10: ''"
     ]
    }
   ],
   "source": [
    "from qiskit import QuantumCircuit, Aer, execute\n",
    "import numpy as np\n",
    "\n",
    "class QuantumGameInteractive:\n",
    "    def __init__(self):\n",
    "        self.board = np.full((4, 4), -1)  # Initialize the board\n",
    "        self.board[3] = [0, 1, 0, 1]  # Initial configuration\n",
    "        self.qc = QuantumCircuit(4, 4)  # Quantum circuit for the game\n",
    "        self.secret_x_pending = [0] * 4  # Track pending secret X gates\n",
    "\n",
    "        # Apply initial X gates based on the board's configuration\n",
    "        for qubit in range(4):\n",
    "            if self.board[3][qubit] == 1:\n",
    "                self.qc.x(qubit)\n",
    "\n",
    "    def apply_pending_secret_x(self, qubit):\n",
    "        \"\"\"Apply any pending secret X gate to the qubit.\"\"\"\n",
    "        while self.secret_x_pending[qubit] > 0:\n",
    "            self.qc.x(qubit)\n",
    "            self.secret_x_pending[qubit] -= 1\n",
    "\n",
    "    def measure_qubit(self, qubit):\n",
    "        \"\"\"Measure a specific qubit and return the result, applying pending secret X gates first.\"\"\"\n",
    "        self.apply_pending_secret_x(qubit)  # Apply pending secret X before measurement\n",
    "\n",
    "        temp_qc = self.qc.copy()\n",
    "        temp_qc.measure(qubit, qubit)\n",
    "        backend = Aer.get_backend('qasm_simulator')\n",
    "        job = execute(temp_qc, backend, shots=1)\n",
    "        result = job.result()\n",
    "        counts = result.get_counts(temp_qc)\n",
    "        measured_value = int(list(counts.keys())[0][3 - qubit])\n",
    "        return measured_value\n",
    "\n",
    "    def update_board(self, player, qubit, action):\n",
    "        \"\"\"Update the board based on the player's action.\"\"\"\n",
    "        if action == 'X':\n",
    "            # Mark a secret X gate for future application\n",
    "            self.secret_x_pending[qubit] += 1\n",
    "            # print(f\"Player {player} applied a secret X gate to qubit {qubit}.\")\n",
    "            return  \n",
    "\n",
    "        # Desired outcome aligns with the player's identity (0 or 1)\n",
    "        desired_outcome = player\n",
    "        \"\"\" I MADE CHANGE\"\"\"\n",
    "        if self.secret_x_pending[qubit]== 0:\n",
    "            # INITIALLY JUST THE BELOW LINE\n",
    "            current_state = self.measure_qubit(qubit) \n",
    "        else:\n",
    "            current_state = self.measure_qubit(qubit)\n",
    "            current_state = 1- current_state\n",
    "        \"\"\"TILL HERE\"\"\"\n",
    "        if current_state != desired_outcome:\n",
    "            self.qc.x(qubit)  # Apply an X gate to achieve desired outcome\n",
    "\n",
    "        measured_value = self.measure_qubit(qubit)  # Measure again after any adjustments\n",
    "        # Update the board in the lowest available row for the qubit\n",
    "        for row in reversed(range(4)):\n",
    "            if self.board[row][qubit] == -1:\n",
    "                self.board[row][qubit] = measured_value\n",
    "                break\n",
    "        print(f\"Player {player} updated the board:\")\n",
    "\n",
    "        print(self.board)\n",
    "\n",
    "    def play_game(self):\n",
    "        \"\"\"Main game loop for player interactions.\"\"\"\n",
    "        current_player = 0\n",
    "        while True:\n",
    "            print(f\"\\nPlayer {current_player}'s turn.\")\n",
    "            qubit = int(input(\"Choose a qubit to interact with (0-3): \"))\n",
    "            action = input(\"Type 'X' for a secret X gate or 'P' to measure and place: \").upper()\n",
    "\n",
    "            self.update_board(current_player, qubit, action)\n",
    "\n",
    "            # Implement win condition check and full board check here\n",
    "\n",
    "            # Switch to the next player\n",
    "            current_player = 1 - current_player\n",
    "\n",
    "game = QuantumGameInteractive()\n",
    "game.play_game()\n"
   ]
  }
 ],
 "metadata": {
  "kernelspec": {
   "display_name": "Python 3",
   "language": "python",
   "name": "python3"
  },
  "language_info": {
   "codemirror_mode": {
    "name": "ipython",
    "version": 3
   },
   "file_extension": ".py",
   "mimetype": "text/x-python",
   "name": "python",
   "nbconvert_exporter": "python",
   "pygments_lexer": "ipython3",
   "version": "3.9.6"
  }
 },
 "nbformat": 4,
 "nbformat_minor": 2
}
